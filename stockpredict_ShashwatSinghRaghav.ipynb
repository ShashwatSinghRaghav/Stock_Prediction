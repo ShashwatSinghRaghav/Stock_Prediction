{
  "nbformat": 4,
  "nbformat_minor": 0,
  "metadata": {
    "colab": {
      "name": "stockpredict_ShashwatSinghRaghav.ipynb",
      "provenance": [],
      "collapsed_sections": []
    },
    "kernelspec": {
      "name": "python3",
      "display_name": "Python 3"
    }
  },
  "cells": [
    {
      "cell_type": "code",
      "metadata": {
        "id": "0325_SaLu2rb"
      },
      "source": [
        "#libraries\n",
        "import math\n",
        "import pandas_datareader as web\n",
        "import numpy as np\n",
        "import pandas as pd\n",
        "from sklearn.preprocessing import MinMaxScaler\n",
        "from keras.models import Sequential\n",
        "from keras.layers import Dense, LSTM\n",
        "import matplotlib.pyplot as plt\n",
        "plt.style.use('fivethirtyeight')"
      ],
      "execution_count": 1,
      "outputs": []
    },
    {
      "cell_type": "code",
      "metadata": {
        "id": "OlwWYzejCCd1",
        "colab": {
          "base_uri": "https://localhost:8080/",
          "height": 450
        },
        "outputId": "f08e6ff7-810c-4af3-fd38-7a19bd68ede8"
      },
      "source": [
        "df = web.DataReader('ONGC.NS', data_source='yahoo',start='2020-01-01',end='2020-12-31')\n",
        "#Show data\n",
        "df"
      ],
      "execution_count": 6,
      "outputs": [
        {
          "output_type": "execute_result",
          "data": {
            "text/html": [
              "<div>\n",
              "<style scoped>\n",
              "    .dataframe tbody tr th:only-of-type {\n",
              "        vertical-align: middle;\n",
              "    }\n",
              "\n",
              "    .dataframe tbody tr th {\n",
              "        vertical-align: top;\n",
              "    }\n",
              "\n",
              "    .dataframe thead th {\n",
              "        text-align: right;\n",
              "    }\n",
              "</style>\n",
              "<table border=\"1\" class=\"dataframe\">\n",
              "  <thead>\n",
              "    <tr style=\"text-align: right;\">\n",
              "      <th></th>\n",
              "      <th>High</th>\n",
              "      <th>Low</th>\n",
              "      <th>Open</th>\n",
              "      <th>Close</th>\n",
              "      <th>Volume</th>\n",
              "      <th>Adj Close</th>\n",
              "    </tr>\n",
              "    <tr>\n",
              "      <th>Date</th>\n",
              "      <th></th>\n",
              "      <th></th>\n",
              "      <th></th>\n",
              "      <th></th>\n",
              "      <th></th>\n",
              "      <th></th>\n",
              "    </tr>\n",
              "  </thead>\n",
              "  <tbody>\n",
              "    <tr>\n",
              "      <th>2020-01-01</th>\n",
              "      <td>128.899994</td>\n",
              "      <td>126.849998</td>\n",
              "      <td>128.750000</td>\n",
              "      <td>127.449997</td>\n",
              "      <td>2574894.0</td>\n",
              "      <td>118.642120</td>\n",
              "    </tr>\n",
              "    <tr>\n",
              "      <th>2020-01-02</th>\n",
              "      <td>128.649994</td>\n",
              "      <td>127.099998</td>\n",
              "      <td>127.650002</td>\n",
              "      <td>128.050003</td>\n",
              "      <td>4759843.0</td>\n",
              "      <td>119.200661</td>\n",
              "    </tr>\n",
              "    <tr>\n",
              "      <th>2020-01-03</th>\n",
              "      <td>133.399994</td>\n",
              "      <td>128.050003</td>\n",
              "      <td>131.000000</td>\n",
              "      <td>128.449997</td>\n",
              "      <td>31381588.0</td>\n",
              "      <td>119.573013</td>\n",
              "    </tr>\n",
              "    <tr>\n",
              "      <th>2020-01-06</th>\n",
              "      <td>129.800003</td>\n",
              "      <td>125.099998</td>\n",
              "      <td>129.699997</td>\n",
              "      <td>126.250000</td>\n",
              "      <td>14611204.0</td>\n",
              "      <td>117.525055</td>\n",
              "    </tr>\n",
              "    <tr>\n",
              "      <th>2020-01-07</th>\n",
              "      <td>127.699997</td>\n",
              "      <td>125.400002</td>\n",
              "      <td>125.599998</td>\n",
              "      <td>125.750000</td>\n",
              "      <td>7193304.0</td>\n",
              "      <td>117.059608</td>\n",
              "    </tr>\n",
              "    <tr>\n",
              "      <th>...</th>\n",
              "      <td>...</td>\n",
              "      <td>...</td>\n",
              "      <td>...</td>\n",
              "      <td>...</td>\n",
              "      <td>...</td>\n",
              "      <td>...</td>\n",
              "    </tr>\n",
              "    <tr>\n",
              "      <th>2020-12-28</th>\n",
              "      <td>95.150002</td>\n",
              "      <td>93.300003</td>\n",
              "      <td>94.000000</td>\n",
              "      <td>93.800003</td>\n",
              "      <td>17759262.0</td>\n",
              "      <td>93.800003</td>\n",
              "    </tr>\n",
              "    <tr>\n",
              "      <th>2020-12-29</th>\n",
              "      <td>94.650002</td>\n",
              "      <td>92.000000</td>\n",
              "      <td>94.199997</td>\n",
              "      <td>93.150002</td>\n",
              "      <td>17678810.0</td>\n",
              "      <td>93.150002</td>\n",
              "    </tr>\n",
              "    <tr>\n",
              "      <th>2020-12-30</th>\n",
              "      <td>94.500000</td>\n",
              "      <td>92.750000</td>\n",
              "      <td>93.500000</td>\n",
              "      <td>93.250000</td>\n",
              "      <td>15960705.0</td>\n",
              "      <td>93.250000</td>\n",
              "    </tr>\n",
              "    <tr>\n",
              "      <th>2020-12-31</th>\n",
              "      <td>95.550003</td>\n",
              "      <td>92.550003</td>\n",
              "      <td>93.300003</td>\n",
              "      <td>93.050003</td>\n",
              "      <td>43701316.0</td>\n",
              "      <td>93.050003</td>\n",
              "    </tr>\n",
              "    <tr>\n",
              "      <th>2021-01-01</th>\n",
              "      <td>94.449997</td>\n",
              "      <td>93.000000</td>\n",
              "      <td>93.750000</td>\n",
              "      <td>93.199997</td>\n",
              "      <td>15130377.0</td>\n",
              "      <td>93.199997</td>\n",
              "    </tr>\n",
              "  </tbody>\n",
              "</table>\n",
              "<p>251 rows × 6 columns</p>\n",
              "</div>"
            ],
            "text/plain": [
              "                  High         Low  ...      Volume   Adj Close\n",
              "Date                                ...                        \n",
              "2020-01-01  128.899994  126.849998  ...   2574894.0  118.642120\n",
              "2020-01-02  128.649994  127.099998  ...   4759843.0  119.200661\n",
              "2020-01-03  133.399994  128.050003  ...  31381588.0  119.573013\n",
              "2020-01-06  129.800003  125.099998  ...  14611204.0  117.525055\n",
              "2020-01-07  127.699997  125.400002  ...   7193304.0  117.059608\n",
              "...                ...         ...  ...         ...         ...\n",
              "2020-12-28   95.150002   93.300003  ...  17759262.0   93.800003\n",
              "2020-12-29   94.650002   92.000000  ...  17678810.0   93.150002\n",
              "2020-12-30   94.500000   92.750000  ...  15960705.0   93.250000\n",
              "2020-12-31   95.550003   92.550003  ...  43701316.0   93.050003\n",
              "2021-01-01   94.449997   93.000000  ...  15130377.0   93.199997\n",
              "\n",
              "[251 rows x 6 columns]"
            ]
          },
          "metadata": {
            "tags": []
          },
          "execution_count": 6
        }
      ]
    },
    {
      "cell_type": "code",
      "metadata": {
        "id": "-Ef9dJLzDJHw",
        "colab": {
          "base_uri": "https://localhost:8080/"
        },
        "outputId": "8c6d3c6a-2d4a-485d-b8a1-50a161a11d5c"
      },
      "source": [
        "#Get Number rows and colums\n",
        "df.shape"
      ],
      "execution_count": 7,
      "outputs": [
        {
          "output_type": "execute_result",
          "data": {
            "text/plain": [
              "(251, 6)"
            ]
          },
          "metadata": {
            "tags": []
          },
          "execution_count": 7
        }
      ]
    },
    {
      "cell_type": "code",
      "metadata": {
        "id": "HL7sxVf3DfBV",
        "colab": {
          "base_uri": "https://localhost:8080/",
          "height": 627
        },
        "outputId": "7b5d2470-9371-4b54-c572-02d3a42a1604"
      },
      "source": [
        "#Graph of closing price\n",
        "plt.figure(figsize=(20,10))\n",
        "plt.title('Close Price History')\n",
        "plt.plot(df['Close'])\n",
        "plt.xlabel('Date',fontsize=18)\n",
        "plt.ylabel('Close Price USD ($)',fontsize=18)\n",
        "plt.show()"
      ],
      "execution_count": 8,
      "outputs": [
        {
          "output_type": "display_data",
          "data": {
            "image/png": "[encoded data removed]",
            "text/plain": [
              "<Figure size 1440x720 with 1 Axes>"
            ]
          },
          "metadata": {
            "tags": [],
            "needs_background": "light"
          }
        }
      ]
    },
    {
      "cell_type": "code",
      "metadata": {
        "id": "mG6xbqv7FE-d",
        "colab": {
          "base_uri": "https://localhost:8080/"
        },
        "outputId": "36e70ca4-e010-4dc1-f7a6-13a36b8e2c42"
      },
      "source": [
        "#Create data frame from close\n",
        "data = df.filter(['Close'])\n",
        "#dataframe to array\n",
        "dataset = data.values\n",
        "#Number of rows to train\n",
        "training_data_len = math.ceil(len(dataset)* .8)\n",
        "training_data_len"
      ],
      "execution_count": 9,
      "outputs": [
        {
          "output_type": "execute_result",
          "data": {
            "text/plain": [
              "201"
            ]
          },
          "metadata": {
            "tags": []
          },
          "execution_count": 9
        }
      ]
    },
    {
      "cell_type": "code",
      "metadata": {
        "id": "VGWnYVbaGYW5",
        "colab": {
          "base_uri": "https://localhost:8080/"
        },
        "outputId": "0afab29f-2395-49fc-f785-202c0de715c5"
      },
      "source": [
        " #scale data\n",
        " scaler = MinMaxScaler(feature_range=(0,1))\n",
        " scaled_data = scaler.fit_transform(dataset)\n",
        " scaled_data"
      ],
      "execution_count": 10,
      "outputs": [
        {
          "output_type": "execute_result",
          "data": {
            "text/plain": [
              "array([[0.9853908 ],\n",
              "       [0.99415641],\n",
              "       [1.        ],\n",
              "       [0.96785979],\n",
              "       [0.96055519],\n",
              "       [0.92695398],\n",
              "       [0.93060628],\n",
              "       [0.93718049],\n",
              "       [0.95617239],\n",
              "       [0.95032879],\n",
              "       [0.94448509],\n",
              "       [0.94229369],\n",
              "       [0.95544199],\n",
              "       [0.91891898],\n",
              "       [0.91672758],\n",
              "       [0.82395915],\n",
              "       [0.84441206],\n",
              "       [0.85244706],\n",
              "       [0.83637695],\n",
              "       [0.82688095],\n",
              "       [0.84222066],\n",
              "       [0.81227175],\n",
              "       [0.71512051],\n",
              "       [0.63476989],\n",
              "       [0.67421481],\n",
              "       [0.68371081],\n",
              "       [0.69028491],\n",
              "       [0.71950332],\n",
              "       [0.6749452 ],\n",
              "       [0.68371081],\n",
              "       [0.6822498 ],\n",
              "       [0.6625274 ],\n",
              "       [0.6325786 ],\n",
              "       [0.58363767],\n",
              "       [0.57414178],\n",
              "       [0.60920378],\n",
              "       [0.625274  ],\n",
              "       [0.55588027],\n",
              "       [0.54857567],\n",
              "       [0.52300956],\n",
              "       [0.48721695],\n",
              "       [0.46676404],\n",
              "       [0.42512783],\n",
              "       [0.48721695],\n",
              "       [0.47918195],\n",
              "       [0.47626004],\n",
              "       [0.41636233],\n",
              "       [0.21256397],\n",
              "       [0.17092765],\n",
              "       [0.03652301],\n",
              "       [0.08619433],\n",
              "       [0.0021914 ],\n",
              "       [0.        ],\n",
              "       [0.11906504],\n",
              "       [0.01533965],\n",
              "       [0.18042365],\n",
              "       [0.0058437 ],\n",
              "       [0.03652301],\n",
              "       [0.02264426],\n",
              "       [0.06939372],\n",
              "       [0.06501092],\n",
              "       [0.04894081],\n",
              "       [0.12125644],\n",
              "       [0.08400293],\n",
              "       [0.14390064],\n",
              "       [0.18845876],\n",
              "       [0.21110296],\n",
              "       [0.25273928],\n",
              "       [0.21986857],\n",
              "       [0.20964206],\n",
              "       [0.22571216],\n",
              "       [0.23813008],\n",
              "       [0.20452886],\n",
              "       [0.13659604],\n",
              "       [0.07815922],\n",
              "       [0.10737763],\n",
              "       [0.11102993],\n",
              "       [0.12344773],\n",
              "       [0.13440464],\n",
              "       [0.15339665],\n",
              "       [0.29072319],\n",
              "       [0.24178238],\n",
              "       [0.26953978],\n",
              "       [0.28122719],\n",
              "       [0.22790357],\n",
              "       [0.23374727],\n",
              "       [0.24908698],\n",
              "       [0.23813008],\n",
              "       [0.26588748],\n",
              "       [0.23593867],\n",
              "       [0.23593867],\n",
              "       [0.18845876],\n",
              "       [0.25054788],\n",
              "       [0.26296568],\n",
              "       [0.24835648],\n",
              "       [0.23593867],\n",
              "       [0.24835648],\n",
              "       [0.26223518],\n",
              "       [0.27538348],\n",
              "       [0.3389335 ],\n",
              "       [0.3498904 ],\n",
              "       [0.35500371],\n",
              "       [0.38422212],\n",
              "       [0.36376921],\n",
              "       [0.39371802],\n",
              "       [0.45215483],\n",
              "       [0.43827613],\n",
              "       [0.41271003],\n",
              "       [0.39298762],\n",
              "       [0.34916001],\n",
              "       [0.3520818 ],\n",
              "       [0.34916001],\n",
              "       [0.3535427 ],\n",
              "       [0.3447772 ],\n",
              "       [0.37618701],\n",
              "       [0.36303871],\n",
              "       [0.37472612],\n",
              "       [0.3374726 ],\n",
              "       [0.31555879],\n",
              "       [0.35281231],\n",
              "       [0.3272462 ],\n",
              "       [0.31190649],\n",
              "       [0.29875819],\n",
              "       [0.31921109],\n",
              "       [0.3272462 ],\n",
              "       [0.34696861],\n",
              "       [0.32067199],\n",
              "       [0.3111761 ],\n",
              "       [0.29510589],\n",
              "       [0.27100079],\n",
              "       [0.27611399],\n",
              "       [0.25346967],\n",
              "       [0.23739957],\n",
              "       [0.23593867],\n",
              "       [0.29729729],\n",
              "       [0.29656689],\n",
              "       [0.3279766 ],\n",
              "       [0.330168  ],\n",
              "       [0.3308985 ],\n",
              "       [0.30679329],\n",
              "       [0.3038715 ],\n",
              "       [0.29072319],\n",
              "       [0.28487949],\n",
              "       [0.25858287],\n",
              "       [0.26734849],\n",
              "       [0.23228637],\n",
              "       [0.23520817],\n",
              "       [0.24762597],\n",
              "       [0.26369618],\n",
              "       [0.27246169],\n",
              "       [0.27830539],\n",
              "       [0.26953978],\n",
              "       [0.26442658],\n",
              "       [0.27173118],\n",
              "       [0.24981737],\n",
              "       [0.28195769],\n",
              "       [0.30168009],\n",
              "       [0.28560999],\n",
              "       [0.3235939 ],\n",
              "       [0.3075238 ],\n",
              "       [0.31044559],\n",
              "       [0.29948869],\n",
              "       [0.312637  ],\n",
              "       [0.29437549],\n",
              "       [0.29729729],\n",
              "       [0.32067199],\n",
              "       [0.28268808],\n",
              "       [0.29656689],\n",
              "       [0.27830539],\n",
              "       [0.26150478],\n",
              "       [0.24032137],\n",
              "       [0.21110296],\n",
              "       [0.18553685],\n",
              "       [0.19941566],\n",
              "       [0.19430246],\n",
              "       [0.19941566],\n",
              "       [0.20160707],\n",
              "       [0.19065016],\n",
              "       [0.19211106],\n",
              "       [0.20891167],\n",
              "       [0.16289265],\n",
              "       [0.13878744],\n",
              "       [0.11176044],\n",
              "       [0.09715123],\n",
              "       [0.13002194],\n",
              "       [0.17311905],\n",
              "       [0.13367424],\n",
              "       [0.13513514],\n",
              "       [0.13367424],\n",
              "       [0.13440464],\n",
              "       [0.13659604],\n",
              "       [0.15339665],\n",
              "       [0.12344773],\n",
              "       [0.15047485],\n",
              "       [0.13367424],\n",
              "       [0.13294374],\n",
              "       [0.10226443],\n",
              "       [0.08838573],\n",
              "       [0.10591673],\n",
              "       [0.13586565],\n",
              "       [0.10810814],\n",
              "       [0.11395184],\n",
              "       [0.12929144],\n",
              "       [0.13148284],\n",
              "       [0.11979543],\n",
              "       [0.10007303],\n",
              "       [0.09276843],\n",
              "       [0.06428052],\n",
              "       [0.07158512],\n",
              "       [0.08327242],\n",
              "       [0.09203803],\n",
              "       [0.09422932],\n",
              "       [0.11102993],\n",
              "       [0.11687364],\n",
              "       [0.12344773],\n",
              "       [0.15704895],\n",
              "       [0.18042365],\n",
              "       [0.16873636],\n",
              "       [0.17750186],\n",
              "       [0.16508405],\n",
              "       [0.17457995],\n",
              "       [0.17750186],\n",
              "       [0.17019725],\n",
              "       [0.24105187],\n",
              "       [0.23520817],\n",
              "       [0.3038715 ],\n",
              "       [0.29510589],\n",
              "       [0.27027028],\n",
              "       [0.3148284 ],\n",
              "       [0.36303871],\n",
              "       [0.41928412],\n",
              "       [0.43608473],\n",
              "       [0.46092044],\n",
              "       [0.44923304],\n",
              "       [0.45580713],\n",
              "       [0.46238134],\n",
              "       [0.53761877],\n",
              "       [0.60628198],\n",
              "       [0.59094228],\n",
              "       [0.62673489],\n",
              "       [0.60628198],\n",
              "       [0.56975897],\n",
              "       [0.43608473],\n",
              "       [0.44631124],\n",
              "       [0.44996354],\n",
              "       [0.48429515],\n",
              "       [0.49379115],\n",
              "       [0.48429515],\n",
              "       [0.48575605],\n",
              "       [0.48283425],\n",
              "       [0.48502554]])"
            ]
          },
          "metadata": {
            "tags": []
          },
          "execution_count": 10
        }
      ]
    },
    {
      "cell_type": "code",
      "metadata": {
        "id": "KbLguzPZG8ig",
        "colab": {
          "base_uri": "https://localhost:8080/"
        },
        "outputId": "6cac2830-ca70-47ed-cb60-f3299c6a0276"
      },
      "source": [
        "#train dataset\n",
        "#scale train data set\n",
        "train_data = scaled_data[0:training_data_len,:]\n",
        "#split data in x and y\n",
        "x_train =[]\n",
        "y_train =[]\n",
        "\n",
        "for i in range(60, len(train_data)):\n",
        "  x_train.append(train_data[i-60:i, 0])\n",
        "  y_train.append(train_data[i,0])\n",
        "  if i<=61:\n",
        "    print(x_train)\n",
        "    print(y_train)\n",
        "    print()"
      ],
      "execution_count": 11,
      "outputs": [
        {
          "output_type": "stream",
          "text": [
            "[array([0.9853908 , 0.99415641, 1.        , 0.96785979, 0.96055519,\n",
            "       0.92695398, 0.93060628, 0.93718049, 0.95617239, 0.95032879,\n",
            "       0.94448509, 0.94229369, 0.95544199, 0.91891898, 0.91672758,\n",
            "       0.82395915, 0.84441206, 0.85244706, 0.83637695, 0.82688095,\n",
            "       0.84222066, 0.81227175, 0.71512051, 0.63476989, 0.67421481,\n",
            "       0.68371081, 0.69028491, 0.71950332, 0.6749452 , 0.68371081,\n",
            "       0.6822498 , 0.6625274 , 0.6325786 , 0.58363767, 0.57414178,\n",
            "       0.60920378, 0.625274  , 0.55588027, 0.54857567, 0.52300956,\n",
            "       0.48721695, 0.46676404, 0.42512783, 0.48721695, 0.47918195,\n",
            "       0.47626004, 0.41636233, 0.21256397, 0.17092765, 0.03652301,\n",
            "       0.08619433, 0.0021914 , 0.        , 0.11906504, 0.01533965,\n",
            "       0.18042365, 0.0058437 , 0.03652301, 0.02264426, 0.06939372])]\n",
            "[0.06501091521752744]\n",
            "\n",
            "[array([0.9853908 , 0.99415641, 1.        , 0.96785979, 0.96055519,\n",
            "       0.92695398, 0.93060628, 0.93718049, 0.95617239, 0.95032879,\n",
            "       0.94448509, 0.94229369, 0.95544199, 0.91891898, 0.91672758,\n",
            "       0.82395915, 0.84441206, 0.85244706, 0.83637695, 0.82688095,\n",
            "       0.84222066, 0.81227175, 0.71512051, 0.63476989, 0.67421481,\n",
            "       0.68371081, 0.69028491, 0.71950332, 0.6749452 , 0.68371081,\n",
            "       0.6822498 , 0.6625274 , 0.6325786 , 0.58363767, 0.57414178,\n",
            "       0.60920378, 0.625274  , 0.55588027, 0.54857567, 0.52300956,\n",
            "       0.48721695, 0.46676404, 0.42512783, 0.48721695, 0.47918195,\n",
            "       0.47626004, 0.41636233, 0.21256397, 0.17092765, 0.03652301,\n",
            "       0.08619433, 0.0021914 , 0.        , 0.11906504, 0.01533965,\n",
            "       0.18042365, 0.0058437 , 0.03652301, 0.02264426, 0.06939372]), array([0.99415641, 1.        , 0.96785979, 0.96055519, 0.92695398,\n",
            "       0.93060628, 0.93718049, 0.95617239, 0.95032879, 0.94448509,\n",
            "       0.94229369, 0.95544199, 0.91891898, 0.91672758, 0.82395915,\n",
            "       0.84441206, 0.85244706, 0.83637695, 0.82688095, 0.84222066,\n",
            "       0.81227175, 0.71512051, 0.63476989, 0.67421481, 0.68371081,\n",
            "       0.69028491, 0.71950332, 0.6749452 , 0.68371081, 0.6822498 ,\n",
            "       0.6625274 , 0.6325786 , 0.58363767, 0.57414178, 0.60920378,\n",
            "       0.625274  , 0.55588027, 0.54857567, 0.52300956, 0.48721695,\n",
            "       0.46676404, 0.42512783, 0.48721695, 0.47918195, 0.47626004,\n",
            "       0.41636233, 0.21256397, 0.17092765, 0.03652301, 0.08619433,\n",
            "       0.0021914 , 0.        , 0.11906504, 0.01533965, 0.18042365,\n",
            "       0.0058437 , 0.03652301, 0.02264426, 0.06939372, 0.06501092])]\n",
            "[0.06501091521752744, 0.04894081261470562]\n",
            "\n"
          ],
          "name": "stdout"
        }
      ]
    },
    {
      "cell_type": "code",
      "metadata": {
        "id": "uTTl46f_InM5"
      },
      "source": [
        "#convert x and y to array\n",
        "x_train, y_train = np.array(x_train), np.array(y_train)"
      ],
      "execution_count": 13,
      "outputs": []
    },
    {
      "cell_type": "code",
      "metadata": {
        "id": "sxPudCC0I-RT",
        "colab": {
          "base_uri": "https://localhost:8080/"
        },
        "outputId": "6550755c-d2d8-40c4-b3f7-945146d89f72"
      },
      "source": [
        "#reshape\n",
        "x_train = np.reshape(x_train,(x_train.shape[0],x_train.shape[1],1))\n",
        "x_train.shape"
      ],
      "execution_count": 14,
      "outputs": [
        {
          "output_type": "execute_result",
          "data": {
            "text/plain": [
              "(141, 60, 1)"
            ]
          },
          "metadata": {
            "tags": []
          },
          "execution_count": 14
        }
      ]
    },
    {
      "cell_type": "code",
      "metadata": {
        "id": "mt1hspk0Ji9k"
      },
      "source": [
        "#LSTM model\n",
        "model = Sequential()\n",
        "model.add(LSTM(50 ,return_sequences=True, input_shape = (x_train.shape[1],1)))\n",
        "model.add(LSTM(50 ,return_sequences=False))\n",
        "model.add(Dense(12))\n",
        "model.add(Dense(1))"
      ],
      "execution_count": 16,
      "outputs": []
    },
    {
      "cell_type": "code",
      "metadata": {
        "id": "k_5bYTIaKeLI"
      },
      "source": [
        "#Compile \n",
        "model.compile(optimizer = 'adam',loss = 'mean_squared_error')"
      ],
      "execution_count": 17,
      "outputs": []
    },
    {
      "cell_type": "code",
      "metadata": {
        "id": "2nA8fl4oKwEl",
        "colab": {
          "base_uri": "https://localhost:8080/"
        },
        "outputId": "189f59f7-20f7-46e9-e572-af48db471c1c"
      },
      "source": [
        "#train\n",
        "model.fit(x_train, y_train, batch_size=1, epochs=1)"
      ],
      "execution_count": 19,
      "outputs": [
        {
          "output_type": "stream",
          "text": [
            "141/141 [==============================] - 3s 22ms/step - loss: 0.0035\n"
          ],
          "name": "stdout"
        },
        {
          "output_type": "execute_result",
          "data": {
            "text/plain": [
              "<tensorflow.python.keras.callbacks.History at 0x7f646107d278>"
            ]
          },
          "metadata": {
            "tags": []
          },
          "execution_count": 19
        }
      ]
    },
    {
      "cell_type": "code",
      "metadata": {
        "id": "leabbT4hMcSz"
      },
      "source": [
        "#test\n",
        "test_data = scaled_data[training_data_len - 60: , :]\n",
        "x_test = []\n",
        "y_test = dataset[training_data_len: , :]\n",
        "for i in range(60, len(test_data)):\n",
        "  x_test.append(test_data[i-60:i,0])"
      ],
      "execution_count": 21,
      "outputs": []
    },
    {
      "cell_type": "code",
      "metadata": {
        "id": "AuIKNdqONXKd"
      },
      "source": [
        "#Conver data to array\n",
        "x_test = np.array(x_test)"
      ],
      "execution_count": 22,
      "outputs": []
    },
    {
      "cell_type": "code",
      "metadata": {
        "id": "EyJfVsaqNfKP"
      },
      "source": [
        "#reshape 2d to 3d\n",
        "x_test = np.reshape(x_test,(x_test.shape[0],x_test.shape[1],1))"
      ],
      "execution_count": 23,
      "outputs": []
    },
    {
      "cell_type": "code",
      "metadata": {
        "id": "75CbcCODN2tH"
      },
      "source": [
        "#Predicted price\n",
        "predictions = model.predict(x_test)\n",
        "predictions = scaler.inverse_transform(predictions)"
      ],
      "execution_count": 24,
      "outputs": []
    },
    {
      "cell_type": "code",
      "metadata": {
        "id": "Oue0-sW9OVBs",
        "colab": {
          "base_uri": "https://localhost:8080/"
        },
        "outputId": "7fd2b773-4ce9-499c-868f-33c630339098"
      },
      "source": [
        "#RMSE\n",
        "rmse = np.sqrt(np.mean(predictions - y_test)**2)\n",
        "rmse"
      ],
      "execution_count": 25,
      "outputs": [
        {
          "output_type": "execute_result",
          "data": {
            "text/plain": [
              "0.9417120361328125"
            ]
          },
          "metadata": {
            "tags": []
          },
          "execution_count": 25
        }
      ]
    },
    {
      "cell_type": "code",
      "metadata": {
        "id": "bi5c2sa2O4pk",
        "colab": {
          "base_uri": "https://localhost:8080/",
          "height": 620
        },
        "outputId": "578ef3b5-424a-440f-cb08-78f62d7b887b"
      },
      "source": [
        "#plot\n",
        "train = data[:training_data_len]\n",
        "valid = data[training_data_len:]\n",
        "valid['Predictions'] = predictions\n",
        "plt.figure(figsize=(16,8))\n",
        "plt.title('Model')\n",
        "plt.xlabel('Date', fontsize = 18)\n",
        "plt.ylabel('Close Price INR ', fontsize = 18)\n",
        "plt.plot(train['Close'])\n",
        "plt.plot(valid[['Close', 'Predictions']])\n",
        "plt.legend(['Train','Val','Predictions'],loc = 'lower right')\n",
        "plt.show()"
      ],
      "execution_count": 26,
      "outputs": [
        {
          "output_type": "stream",
          "text": [
            "/usr/local/lib/python3.6/dist-packages/ipykernel_launcher.py:4: SettingWithCopyWarning: \n",
            "A value is trying to be set on a copy of a slice from a DataFrame.\n",
            "Try using .loc[row_indexer,col_indexer] = value instead\n",
            "\n",
            "See the caveats in the documentation: https://pandas.pydata.org/pandas-docs/stable/user_guide/indexing.html#returning-a-view-versus-a-copy\n",
            "  after removing the cwd from sys.path.\n"
          ],
          "name": "stderr"
        },
        {
          "output_type": "display_data",
          "data": {
            "image/png": "[encoded data removed]",
            "text/plain": [
              "<Figure size 1152x576 with 1 Axes>"
            ]
          },
          "metadata": {
            "tags": [],
            "needs_background": "light"
          }
        }
      ]
    },
    {
      "cell_type": "code",
      "metadata": {
        "id": "DNErQ8msRIkM",
        "colab": {
          "base_uri": "https://localhost:8080/",
          "height": 1000
        },
        "outputId": "5e59aceb-ef9c-4eb7-c6d8-ef8ed9aac2b6"
      },
      "source": [
        "#valid and predicted price\n",
        "valid"
      ],
      "execution_count": 27,
      "outputs": [
        {
          "output_type": "execute_result",
          "data": {
            "text/html": [
              "<div>\n",
              "<style scoped>\n",
              "    .dataframe tbody tr th:only-of-type {\n",
              "        vertical-align: middle;\n",
              "    }\n",
              "\n",
              "    .dataframe tbody tr th {\n",
              "        vertical-align: top;\n",
              "    }\n",
              "\n",
              "    .dataframe thead th {\n",
              "        text-align: right;\n",
              "    }\n",
              "</style>\n",
              "<table border=\"1\" class=\"dataframe\">\n",
              "  <thead>\n",
              "    <tr style=\"text-align: right;\">\n",
              "      <th></th>\n",
              "      <th>Close</th>\n",
              "      <th>Predictions</th>\n",
              "    </tr>\n",
              "    <tr>\n",
              "      <th>Date</th>\n",
              "      <th></th>\n",
              "      <th></th>\n",
              "    </tr>\n",
              "  </thead>\n",
              "  <tbody>\n",
              "    <tr>\n",
              "      <th>2020-10-21</th>\n",
              "      <td>67.800003</td>\n",
              "      <td>71.909233</td>\n",
              "    </tr>\n",
              "    <tr>\n",
              "      <th>2020-10-22</th>\n",
              "      <td>68.849998</td>\n",
              "      <td>71.822449</td>\n",
              "    </tr>\n",
              "    <tr>\n",
              "      <th>2020-10-23</th>\n",
              "      <td>69.000000</td>\n",
              "      <td>71.823189</td>\n",
              "    </tr>\n",
              "    <tr>\n",
              "      <th>2020-10-26</th>\n",
              "      <td>68.199997</td>\n",
              "      <td>71.885246</td>\n",
              "    </tr>\n",
              "    <tr>\n",
              "      <th>2020-10-27</th>\n",
              "      <td>66.849998</td>\n",
              "      <td>71.929825</td>\n",
              "    </tr>\n",
              "    <tr>\n",
              "      <th>2020-10-28</th>\n",
              "      <td>66.349998</td>\n",
              "      <td>71.877480</td>\n",
              "    </tr>\n",
              "    <tr>\n",
              "      <th>2020-10-29</th>\n",
              "      <td>64.400002</td>\n",
              "      <td>71.741226</td>\n",
              "    </tr>\n",
              "    <tr>\n",
              "      <th>2020-10-30</th>\n",
              "      <td>64.900002</td>\n",
              "      <td>71.446274</td>\n",
              "    </tr>\n",
              "    <tr>\n",
              "      <th>2020-11-02</th>\n",
              "      <td>65.699997</td>\n",
              "      <td>71.112221</td>\n",
              "    </tr>\n",
              "    <tr>\n",
              "      <th>2020-11-03</th>\n",
              "      <td>66.300003</td>\n",
              "      <td>70.830414</td>\n",
              "    </tr>\n",
              "    <tr>\n",
              "      <th>2020-11-04</th>\n",
              "      <td>66.449997</td>\n",
              "      <td>70.639259</td>\n",
              "    </tr>\n",
              "    <tr>\n",
              "      <th>2020-11-05</th>\n",
              "      <td>67.599998</td>\n",
              "      <td>70.527229</td>\n",
              "    </tr>\n",
              "    <tr>\n",
              "      <th>2020-11-06</th>\n",
              "      <td>68.000000</td>\n",
              "      <td>70.542107</td>\n",
              "    </tr>\n",
              "    <tr>\n",
              "      <th>2020-11-09</th>\n",
              "      <td>68.449997</td>\n",
              "      <td>70.656265</td>\n",
              "    </tr>\n",
              "    <tr>\n",
              "      <th>2020-11-10</th>\n",
              "      <td>70.750000</td>\n",
              "      <td>70.848640</td>\n",
              "    </tr>\n",
              "    <tr>\n",
              "      <th>2020-11-11</th>\n",
              "      <td>72.349998</td>\n",
              "      <td>71.214172</td>\n",
              "    </tr>\n",
              "    <tr>\n",
              "      <th>2020-11-12</th>\n",
              "      <td>71.550003</td>\n",
              "      <td>71.753410</td>\n",
              "    </tr>\n",
              "    <tr>\n",
              "      <th>2020-11-13</th>\n",
              "      <td>72.150002</td>\n",
              "      <td>72.304253</td>\n",
              "    </tr>\n",
              "    <tr>\n",
              "      <th>2020-11-17</th>\n",
              "      <td>71.300003</td>\n",
              "      <td>72.855942</td>\n",
              "    </tr>\n",
              "    <tr>\n",
              "      <th>2020-11-18</th>\n",
              "      <td>71.949997</td>\n",
              "      <td>73.309731</td>\n",
              "    </tr>\n",
              "    <tr>\n",
              "      <th>2020-11-19</th>\n",
              "      <td>72.150002</td>\n",
              "      <td>73.709412</td>\n",
              "    </tr>\n",
              "    <tr>\n",
              "      <th>2020-11-20</th>\n",
              "      <td>71.650002</td>\n",
              "      <td>74.056236</td>\n",
              "    </tr>\n",
              "    <tr>\n",
              "      <th>2020-11-23</th>\n",
              "      <td>76.500000</td>\n",
              "      <td>74.311531</td>\n",
              "    </tr>\n",
              "    <tr>\n",
              "      <th>2020-11-24</th>\n",
              "      <td>76.099998</td>\n",
              "      <td>74.799759</td>\n",
              "    </tr>\n",
              "    <tr>\n",
              "      <th>2020-11-25</th>\n",
              "      <td>80.800003</td>\n",
              "      <td>75.358757</td>\n",
              "    </tr>\n",
              "    <tr>\n",
              "      <th>2020-11-26</th>\n",
              "      <td>80.199997</td>\n",
              "      <td>76.219589</td>\n",
              "    </tr>\n",
              "    <tr>\n",
              "      <th>2020-11-27</th>\n",
              "      <td>78.500000</td>\n",
              "      <td>77.148636</td>\n",
              "    </tr>\n",
              "    <tr>\n",
              "      <th>2020-12-01</th>\n",
              "      <td>81.550003</td>\n",
              "      <td>77.932671</td>\n",
              "    </tr>\n",
              "    <tr>\n",
              "      <th>2020-12-02</th>\n",
              "      <td>84.849998</td>\n",
              "      <td>78.767883</td>\n",
              "    </tr>\n",
              "    <tr>\n",
              "      <th>2020-12-03</th>\n",
              "      <td>88.699997</td>\n",
              "      <td>79.779457</td>\n",
              "    </tr>\n",
              "    <tr>\n",
              "      <th>2020-12-04</th>\n",
              "      <td>89.849998</td>\n",
              "      <td>81.068413</td>\n",
              "    </tr>\n",
              "    <tr>\n",
              "      <th>2020-12-07</th>\n",
              "      <td>91.550003</td>\n",
              "      <td>82.490814</td>\n",
              "    </tr>\n",
              "    <tr>\n",
              "      <th>2020-12-08</th>\n",
              "      <td>90.750000</td>\n",
              "      <td>83.991364</td>\n",
              "    </tr>\n",
              "    <tr>\n",
              "      <th>2020-12-09</th>\n",
              "      <td>91.199997</td>\n",
              "      <td>85.354126</td>\n",
              "    </tr>\n",
              "    <tr>\n",
              "      <th>2020-12-10</th>\n",
              "      <td>91.650002</td>\n",
              "      <td>86.552879</td>\n",
              "    </tr>\n",
              "    <tr>\n",
              "      <th>2020-12-11</th>\n",
              "      <td>96.800003</td>\n",
              "      <td>87.581650</td>\n",
              "    </tr>\n",
              "    <tr>\n",
              "      <th>2020-12-14</th>\n",
              "      <td>101.500000</td>\n",
              "      <td>88.785454</td>\n",
              "    </tr>\n",
              "    <tr>\n",
              "      <th>2020-12-15</th>\n",
              "      <td>100.449997</td>\n",
              "      <td>90.312828</td>\n",
              "    </tr>\n",
              "    <tr>\n",
              "      <th>2020-12-16</th>\n",
              "      <td>102.900002</td>\n",
              "      <td>91.812088</td>\n",
              "    </tr>\n",
              "    <tr>\n",
              "      <th>2020-12-17</th>\n",
              "      <td>101.500000</td>\n",
              "      <td>93.349960</td>\n",
              "    </tr>\n",
              "    <tr>\n",
              "      <th>2020-12-18</th>\n",
              "      <td>99.000000</td>\n",
              "      <td>94.663628</td>\n",
              "    </tr>\n",
              "    <tr>\n",
              "      <th>2020-12-21</th>\n",
              "      <td>89.849998</td>\n",
              "      <td>95.549377</td>\n",
              "    </tr>\n",
              "    <tr>\n",
              "      <th>2020-12-22</th>\n",
              "      <td>90.550003</td>\n",
              "      <td>95.436691</td>\n",
              "    </tr>\n",
              "    <tr>\n",
              "      <th>2020-12-23</th>\n",
              "      <td>90.800003</td>\n",
              "      <td>94.839546</td>\n",
              "    </tr>\n",
              "    <tr>\n",
              "      <th>2020-12-24</th>\n",
              "      <td>93.150002</td>\n",
              "      <td>94.019135</td>\n",
              "    </tr>\n",
              "    <tr>\n",
              "      <th>2020-12-28</th>\n",
              "      <td>93.800003</td>\n",
              "      <td>93.304550</td>\n",
              "    </tr>\n",
              "    <tr>\n",
              "      <th>2020-12-29</th>\n",
              "      <td>93.150002</td>\n",
              "      <td>92.746559</td>\n",
              "    </tr>\n",
              "    <tr>\n",
              "      <th>2020-12-30</th>\n",
              "      <td>93.250000</td>\n",
              "      <td>92.276352</td>\n",
              "    </tr>\n",
              "    <tr>\n",
              "      <th>2020-12-31</th>\n",
              "      <td>93.050003</td>\n",
              "      <td>91.906410</td>\n",
              "    </tr>\n",
              "    <tr>\n",
              "      <th>2021-01-01</th>\n",
              "      <td>93.199997</td>\n",
              "      <td>91.610085</td>\n",
              "    </tr>\n",
              "  </tbody>\n",
              "</table>\n",
              "</div>"
            ],
            "text/plain": [
              "                 Close  Predictions\n",
              "Date                               \n",
              "2020-10-21   67.800003    71.909233\n",
              "2020-10-22   68.849998    71.822449\n",
              "2020-10-23   69.000000    71.823189\n",
              "2020-10-26   68.199997    71.885246\n",
              "2020-10-27   66.849998    71.929825\n",
              "2020-10-28   66.349998    71.877480\n",
              "2020-10-29   64.400002    71.741226\n",
              "2020-10-30   64.900002    71.446274\n",
              "2020-11-02   65.699997    71.112221\n",
              "2020-11-03   66.300003    70.830414\n",
              "2020-11-04   66.449997    70.639259\n",
              "2020-11-05   67.599998    70.527229\n",
              "2020-11-06   68.000000    70.542107\n",
              "2020-11-09   68.449997    70.656265\n",
              "2020-11-10   70.750000    70.848640\n",
              "2020-11-11   72.349998    71.214172\n",
              "2020-11-12   71.550003    71.753410\n",
              "2020-11-13   72.150002    72.304253\n",
              "2020-11-17   71.300003    72.855942\n",
              "2020-11-18   71.949997    73.309731\n",
              "2020-11-19   72.150002    73.709412\n",
              "2020-11-20   71.650002    74.056236\n",
              "2020-11-23   76.500000    74.311531\n",
              "2020-11-24   76.099998    74.799759\n",
              "2020-11-25   80.800003    75.358757\n",
              "2020-11-26   80.199997    76.219589\n",
              "2020-11-27   78.500000    77.148636\n",
              "2020-12-01   81.550003    77.932671\n",
              "2020-12-02   84.849998    78.767883\n",
              "2020-12-03   88.699997    79.779457\n",
              "2020-12-04   89.849998    81.068413\n",
              "2020-12-07   91.550003    82.490814\n",
              "2020-12-08   90.750000    83.991364\n",
              "2020-12-09   91.199997    85.354126\n",
              "2020-12-10   91.650002    86.552879\n",
              "2020-12-11   96.800003    87.581650\n",
              "2020-12-14  101.500000    88.785454\n",
              "2020-12-15  100.449997    90.312828\n",
              "2020-12-16  102.900002    91.812088\n",
              "2020-12-17  101.500000    93.349960\n",
              "2020-12-18   99.000000    94.663628\n",
              "2020-12-21   89.849998    95.549377\n",
              "2020-12-22   90.550003    95.436691\n",
              "2020-12-23   90.800003    94.839546\n",
              "2020-12-24   93.150002    94.019135\n",
              "2020-12-28   93.800003    93.304550\n",
              "2020-12-29   93.150002    92.746559\n",
              "2020-12-30   93.250000    92.276352\n",
              "2020-12-31   93.050003    91.906410\n",
              "2021-01-01   93.199997    91.610085"
            ]
          },
          "metadata": {
            "tags": []
          },
          "execution_count": 27
        }
      ]
    },
    {
      "cell_type": "code",
      "metadata": {
        "id": "BkOQwbfpRciE",
        "colab": {
          "base_uri": "https://localhost:8080/"
        },
        "outputId": "d15d8052-40ec-4dd3-e01b-36239a35d93a"
      },
      "source": [
        "aq = web.DataReader('ONGC.NS', data_source='yahoo',start='2020-03-01',end='2020-07-04')\n",
        "new_df = aq.filter(['Close'])\n",
        "last_60_days = new_df[-60:].values \n",
        "last_60_days_scaled = scaler.transform(last_60_days)\n",
        "X_test = []\n",
        "X_test.append(last_60_days_scaled)\n",
        "X_test = np.array(X_test)\n",
        "X_test = np.reshape(X_test,(X_test.shape[0],X_test.shape[1],1))\n",
        "pred_price = model.predict(X_test)\n",
        "pred_price = scaler.inverse_transform(pred_price)\n",
        "print(pred_price)"
      ],
      "execution_count": 28,
      "outputs": [
        {
          "output_type": "stream",
          "text": [
            "[[82.67654]]\n"
          ],
          "name": "stdout"
        }
      ]
    },
    {
      "cell_type": "code",
      "metadata": {
        "id": "qfIQKBJwTFDX",
        "colab": {
          "base_uri": "https://localhost:8080/"
        },
        "outputId": "bc2bb4ff-a750-4d6b-e79e-d4de55fbd6cb"
      },
      "source": [
        "aq2 = web.DataReader('ONGC.NS', data_source='yahoo',start='2020-01-01',end='2020-12-31')\n",
        "print(aq2['Close'])"
      ],
      "execution_count": 30,
      "outputs": [
        {
          "output_type": "stream",
          "text": [
            "Date\n",
            "2020-01-01    127.449997\n",
            "2020-01-02    128.050003\n",
            "2020-01-03    128.449997\n",
            "2020-01-06    126.250000\n",
            "2020-01-07    125.750000\n",
            "                 ...    \n",
            "2020-12-28     93.800003\n",
            "2020-12-29     93.150002\n",
            "2020-12-30     93.250000\n",
            "2020-12-31     93.050003\n",
            "2021-01-01     93.199997\n",
            "Name: Close, Length: 251, dtype: float64\n"
          ],
          "name": "stdout"
        }
      ]
    }
  ]
}