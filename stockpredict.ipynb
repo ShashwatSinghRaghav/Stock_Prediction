{
  "nbformat": 4,
  "nbformat_minor": 0,
  "metadata": {
    "colab": {
      "name": "stockpredict_ShashwatSinghRaghav.ipynb",
      "provenance": [],
      "collapsed_sections": []
    },
    "kernelspec": {
      "name": "python3",
      "display_name": "Python 3"
    }
  },
  "cells": [
    {
      "cell_type": "code",
      "metadata": {
        "id": "0325_SaLu2rb"
      },
      "source": [
        "#libraries\n",
        "import math\n",
        "import pandas_datareader as web\n",
        "import numpy as np\n",
        "import pandas as pd\n",
        "from sklearn.preprocessing import MinMaxScaler\n",
        "from keras.models import Sequential\n",
        "from keras.layers import Dense, LSTM\n",
        "import matplotlib.pyplot as plt\n",
        "plt.style.use('fivethirtyeight')"
      ],
      "execution_count": 4,
      "outputs": []
    },
    {
      "cell_type": "code",
      "metadata": {
        "id": "OlwWYzejCCd1",
        "outputId": "c90f6157-5376-4227-b6b5-e91c091e71a6",
        "colab": {
          "base_uri": "https://localhost:8080/",
          "height": 450
        }
      },
      "source": [
        "df = web.DataReader('RELIANCE.NS', data_source='yahoo',start='2020-03-01',end='2020-07-04')\n",
        "#Show data\n",
        "df"
      ],
      "execution_count": 5,
      "outputs": [
        {
          "output_type": "execute_result",
          "data": {
            "text/html": [
              "<div>\n",
              "<style scoped>\n",
              "    .dataframe tbody tr th:only-of-type {\n",
              "        vertical-align: middle;\n",
              "    }\n",
              "\n",
              "    .dataframe tbody tr th {\n",
              "        vertical-align: top;\n",
              "    }\n",
              "\n",
              "    .dataframe thead th {\n",
              "        text-align: right;\n",
              "    }\n",
              "</style>\n",
              "<table border=\"1\" class=\"dataframe\">\n",
              "  <thead>\n",
              "    <tr style=\"text-align: right;\">\n",
              "      <th></th>\n",
              "      <th>High</th>\n",
              "      <th>Low</th>\n",
              "      <th>Open</th>\n",
              "      <th>Close</th>\n",
              "      <th>Volume</th>\n",
              "      <th>Adj Close</th>\n",
              "    </tr>\n",
              "    <tr>\n",
              "      <th>Date</th>\n",
              "      <th></th>\n",
              "      <th></th>\n",
              "      <th></th>\n",
              "      <th></th>\n",
              "      <th></th>\n",
              "      <th></th>\n",
              "    </tr>\n",
              "  </thead>\n",
              "  <tbody>\n",
              "    <tr>\n",
              "      <th>2020-03-02</th>\n",
              "      <td>1369.000000</td>\n",
              "      <td>1301.099976</td>\n",
              "      <td>1355.099976</td>\n",
              "      <td>1316.150024</td>\n",
              "      <td>13486634.0</td>\n",
              "      <td>1311.226562</td>\n",
              "    </tr>\n",
              "    <tr>\n",
              "      <th>2020-03-03</th>\n",
              "      <td>1353.900024</td>\n",
              "      <td>1322.000000</td>\n",
              "      <td>1329.699951</td>\n",
              "      <td>1342.849976</td>\n",
              "      <td>12525809.0</td>\n",
              "      <td>1337.826660</td>\n",
              "    </tr>\n",
              "    <tr>\n",
              "      <th>2020-03-04</th>\n",
              "      <td>1353.800049</td>\n",
              "      <td>1307.900024</td>\n",
              "      <td>1352.000000</td>\n",
              "      <td>1339.699951</td>\n",
              "      <td>10105782.0</td>\n",
              "      <td>1334.688477</td>\n",
              "    </tr>\n",
              "    <tr>\n",
              "      <th>2020-03-05</th>\n",
              "      <td>1357.949951</td>\n",
              "      <td>1306.000000</td>\n",
              "      <td>1352.199951</td>\n",
              "      <td>1311.150024</td>\n",
              "      <td>13948324.0</td>\n",
              "      <td>1306.245239</td>\n",
              "    </tr>\n",
              "    <tr>\n",
              "      <th>2020-03-06</th>\n",
              "      <td>1288.150024</td>\n",
              "      <td>1241.099976</td>\n",
              "      <td>1270.000000</td>\n",
              "      <td>1271.000000</td>\n",
              "      <td>15422068.0</td>\n",
              "      <td>1266.245483</td>\n",
              "    </tr>\n",
              "    <tr>\n",
              "      <th>...</th>\n",
              "      <td>...</td>\n",
              "      <td>...</td>\n",
              "      <td>...</td>\n",
              "      <td>...</td>\n",
              "      <td>...</td>\n",
              "      <td>...</td>\n",
              "    </tr>\n",
              "    <tr>\n",
              "      <th>2020-06-29</th>\n",
              "      <td>1739.750000</td>\n",
              "      <td>1715.550049</td>\n",
              "      <td>1728.050049</td>\n",
              "      <td>1723.150024</td>\n",
              "      <td>11824524.0</td>\n",
              "      <td>1716.704102</td>\n",
              "    </tr>\n",
              "    <tr>\n",
              "      <th>2020-06-30</th>\n",
              "      <td>1741.000000</td>\n",
              "      <td>1695.550049</td>\n",
              "      <td>1737.000000</td>\n",
              "      <td>1704.099976</td>\n",
              "      <td>13972563.0</td>\n",
              "      <td>1697.725342</td>\n",
              "    </tr>\n",
              "    <tr>\n",
              "      <th>2020-07-01</th>\n",
              "      <td>1749.000000</td>\n",
              "      <td>1708.050049</td>\n",
              "      <td>1720.000000</td>\n",
              "      <td>1737.599976</td>\n",
              "      <td>13136179.0</td>\n",
              "      <td>1731.099976</td>\n",
              "    </tr>\n",
              "    <tr>\n",
              "      <th>2020-07-02</th>\n",
              "      <td>1767.599976</td>\n",
              "      <td>1735.050049</td>\n",
              "      <td>1743.000000</td>\n",
              "      <td>1760.349976</td>\n",
              "      <td>13286365.0</td>\n",
              "      <td>1760.349976</td>\n",
              "    </tr>\n",
              "    <tr>\n",
              "      <th>2020-07-03</th>\n",
              "      <td>1793.000000</td>\n",
              "      <td>1768.000000</td>\n",
              "      <td>1779.800049</td>\n",
              "      <td>1787.900024</td>\n",
              "      <td>13583909.0</td>\n",
              "      <td>1787.900024</td>\n",
              "    </tr>\n",
              "  </tbody>\n",
              "</table>\n",
              "<p>83 rows × 6 columns</p>\n",
              "</div>"
            ],
            "text/plain": [
              "                   High          Low  ...      Volume    Adj Close\n",
              "Date                                  ...                         \n",
              "2020-03-02  1369.000000  1301.099976  ...  13486634.0  1311.226562\n",
              "2020-03-03  1353.900024  1322.000000  ...  12525809.0  1337.826660\n",
              "2020-03-04  1353.800049  1307.900024  ...  10105782.0  1334.688477\n",
              "2020-03-05  1357.949951  1306.000000  ...  13948324.0  1306.245239\n",
              "2020-03-06  1288.150024  1241.099976  ...  15422068.0  1266.245483\n",
              "...                 ...          ...  ...         ...          ...\n",
              "2020-06-29  1739.750000  1715.550049  ...  11824524.0  1716.704102\n",
              "2020-06-30  1741.000000  1695.550049  ...  13972563.0  1697.725342\n",
              "2020-07-01  1749.000000  1708.050049  ...  13136179.0  1731.099976\n",
              "2020-07-02  1767.599976  1735.050049  ...  13286365.0  1760.349976\n",
              "2020-07-03  1793.000000  1768.000000  ...  13583909.0  1787.900024\n",
              "\n",
              "[83 rows x 6 columns]"
            ]
          },
          "metadata": {
            "tags": []
          },
          "execution_count": 5
        }
      ]
    },
    {
      "cell_type": "code",
      "metadata": {
        "id": "-Ef9dJLzDJHw",
        "outputId": "e4ee98da-17e9-4545-dd8d-c11809ec153a",
        "colab": {
          "base_uri": "https://localhost:8080/",
          "height": 34
        }
      },
      "source": [
        "#Get Number rows and colums\n",
        "df.shape"
      ],
      "execution_count": 6,
      "outputs": [
        {
          "output_type": "execute_result",
          "data": {
            "text/plain": [
              "(83, 6)"
            ]
          },
          "metadata": {
            "tags": []
          },
          "execution_count": 6
        }
      ]
    },
    {
      "cell_type": "code",
      "metadata": {
        "id": "HL7sxVf3DfBV",
        "outputId": "c7ab61e7-657c-4933-a857-0e1f7dc754dd",
        "colab": {
          "base_uri": "https://localhost:8080/",
          "height": 675
        }
      },
      "source": [
        "#Graph of closing price\n",
        "plt.figure(figsize=(20,10))\n",
        "plt.title('Close Price History')\n",
        "plt.plot(df['Close'])\n",
        "plt.xlabel('Date',fontsize=18)\n",
        "plt.ylabel('Close Price USD ($)',fontsize=18)\n",
        "plt.show()"
      ],
      "execution_count": 7,
      "outputs": [
        {
          "output_type": "display_data",
          "data": {
            "image/png": "[encoded data removed]",
            "text/plain": [
              "<Figure size 1440x720 with 1 Axes>"
            ]
          },
          "metadata": {
            "tags": []
          }
        }
      ]
    },
    {
      "cell_type": "code",
      "metadata": {
        "id": "mG6xbqv7FE-d",
        "outputId": "d3864a9b-4e9b-422a-924c-334b8dc7ca57",
        "colab": {
          "base_uri": "https://localhost:8080/",
          "height": 34
        }
      },
      "source": [
        "#Create data frame from close\n",
        "data = df.filter(['Close'])\n",
        "#dataframe to array\n",
        "dataset = data.values\n",
        "#Number of rows to train\n",
        "training_data_len = math.ceil(len(dataset)* .8)\n",
        "training_data_len"
      ],
      "execution_count": 8,
      "outputs": [
        {
          "output_type": "execute_result",
          "data": {
            "text/plain": [
              "67"
            ]
          },
          "metadata": {
            "tags": []
          },
          "execution_count": 8
        }
      ]
    },
    {
      "cell_type": "code",
      "metadata": {
        "id": "VGWnYVbaGYW5",
        "outputId": "5eacf5e8-2c1b-4bfd-f54f-1337fe73cadc",
        "colab": {
          "base_uri": "https://localhost:8080/",
          "height": 1000
        }
      },
      "source": [
        " #scale data\n",
        " scaler = MinMaxScaler(feature_range=(0,1))\n",
        " scaled_data = scaler.fit_transform(dataset)\n",
        " scaled_data"
      ],
      "execution_count": 9,
      "outputs": [
        {
          "output_type": "execute_result",
          "data": {
            "text/plain": [
              "array([[0.47806607],\n",
              "       [0.50760632],\n",
              "       [0.5041212 ],\n",
              "       [0.47253418],\n",
              "       [0.42811307],\n",
              "       [0.25457767],\n",
              "       [0.298169  ],\n",
              "       [0.1979864 ],\n",
              "       [0.24478625],\n",
              "       [0.14565472],\n",
              "       [0.13713559],\n",
              "       [0.09343365],\n",
              "       [0.03722965],\n",
              "       [0.14814407],\n",
              "       [0.        ],\n",
              "       [0.06566359],\n",
              "       [0.21928418],\n",
              "       [0.20152675],\n",
              "       [0.20086295],\n",
              "       [0.16197373],\n",
              "       [0.25413509],\n",
              "       [0.21729264],\n",
              "       [0.21397351],\n",
              "       [0.35630909],\n",
              "       [0.34087517],\n",
              "       [0.37163241],\n",
              "       [0.33755604],\n",
              "       [0.29407532],\n",
              "       [0.31421148],\n",
              "       [0.37611329],\n",
              "       [0.39801963],\n",
              "       [0.39088341],\n",
              "       [0.53056366],\n",
              "       [0.53864028],\n",
              "       [0.58964429],\n",
              "       [0.60375061],\n",
              "       [0.60198043],\n",
              "       [0.6006527 ],\n",
              "       [0.62862197],\n",
              "       [0.59486636],\n",
              "       [0.62275825],\n",
              "       [0.62286886],\n",
              "       [0.67350781],\n",
              "       [0.73361729],\n",
              "       [0.75005806],\n",
              "       [0.64314872],\n",
              "       [0.67754599],\n",
              "       [0.6106101 ],\n",
              "       [0.63655475],\n",
              "       [0.61592077],\n",
              "       [0.58068265],\n",
              "       [0.60812075],\n",
              "       [0.61647396],\n",
              "       [0.60574215],\n",
              "       [0.59744431],\n",
              "       [0.62123144],\n",
              "       [0.65077169],\n",
              "       [0.64208664],\n",
              "       [0.70398845],\n",
              "       [0.72097133],\n",
              "       [0.72755436],\n",
              "       [0.76976272],\n",
              "       [0.77186473],\n",
              "       [0.75836697],\n",
              "       [0.72257566],\n",
              "       [0.7612989 ],\n",
              "       [0.72318409],\n",
              "       [0.77972012],\n",
              "       [0.80820936],\n",
              "       [0.81169434],\n",
              "       [0.80909438],\n",
              "       [0.85395807],\n",
              "       [0.96846822],\n",
              "       [0.95380871],\n",
              "       [0.92587266],\n",
              "       [0.93356193],\n",
              "       [0.92255352],\n",
              "       [0.94883001],\n",
              "       [0.92836201],\n",
              "       [0.90728545],\n",
              "       [0.94434912],\n",
              "       [0.96951923],\n",
              "       [1.        ]])"
            ]
          },
          "metadata": {
            "tags": []
          },
          "execution_count": 9
        }
      ]
    },
    {
      "cell_type": "code",
      "metadata": {
        "id": "KbLguzPZG8ig",
        "outputId": "ccb1da80-d320-4ef7-f592-7eb010a780b5",
        "colab": {
          "base_uri": "https://localhost:8080/",
          "height": 680
        }
      },
      "source": [
        "#train dataset\n",
        "#scale train data set\n",
        "train_data = scaled_data[0:training_data_len,:]\n",
        "#split data in x and y\n",
        "x_train =[]\n",
        "y_train =[]\n",
        "\n",
        "for i in range(60, len(train_data)):\n",
        "  x_train.append(train_data[i-60:i, 0])\n",
        "  y_train.append(train_data[i,0])\n",
        "  if i<=61:\n",
        "    print(x_train)\n",
        "    print(y_train)\n",
        "    print()"
      ],
      "execution_count": 10,
      "outputs": [
        {
          "output_type": "stream",
          "text": [
            "[array([0.47806607, 0.50760632, 0.5041212 , 0.47253418, 0.42811307,\n",
            "       0.25457767, 0.298169  , 0.1979864 , 0.24478625, 0.14565472,\n",
            "       0.13713559, 0.09343365, 0.03722965, 0.14814407, 0.        ,\n",
            "       0.06566359, 0.21928418, 0.20152675, 0.20086295, 0.16197373,\n",
            "       0.25413509, 0.21729264, 0.21397351, 0.35630909, 0.34087517,\n",
            "       0.37163241, 0.33755604, 0.29407532, 0.31421148, 0.37611329,\n",
            "       0.39801963, 0.39088341, 0.53056366, 0.53864028, 0.58964429,\n",
            "       0.60375061, 0.60198043, 0.6006527 , 0.62862197, 0.59486636,\n",
            "       0.62275825, 0.62286886, 0.67350781, 0.73361729, 0.75005806,\n",
            "       0.64314872, 0.67754599, 0.6106101 , 0.63655475, 0.61592077,\n",
            "       0.58068265, 0.60812075, 0.61647396, 0.60574215, 0.59744431,\n",
            "       0.62123144, 0.65077169, 0.64208664, 0.70398845, 0.72097133])]\n",
            "[0.7275543618711704]\n",
            "\n",
            "[array([0.47806607, 0.50760632, 0.5041212 , 0.47253418, 0.42811307,\n",
            "       0.25457767, 0.298169  , 0.1979864 , 0.24478625, 0.14565472,\n",
            "       0.13713559, 0.09343365, 0.03722965, 0.14814407, 0.        ,\n",
            "       0.06566359, 0.21928418, 0.20152675, 0.20086295, 0.16197373,\n",
            "       0.25413509, 0.21729264, 0.21397351, 0.35630909, 0.34087517,\n",
            "       0.37163241, 0.33755604, 0.29407532, 0.31421148, 0.37611329,\n",
            "       0.39801963, 0.39088341, 0.53056366, 0.53864028, 0.58964429,\n",
            "       0.60375061, 0.60198043, 0.6006527 , 0.62862197, 0.59486636,\n",
            "       0.62275825, 0.62286886, 0.67350781, 0.73361729, 0.75005806,\n",
            "       0.64314872, 0.67754599, 0.6106101 , 0.63655475, 0.61592077,\n",
            "       0.58068265, 0.60812075, 0.61647396, 0.60574215, 0.59744431,\n",
            "       0.62123144, 0.65077169, 0.64208664, 0.70398845, 0.72097133]), array([0.50760632, 0.5041212 , 0.47253418, 0.42811307, 0.25457767,\n",
            "       0.298169  , 0.1979864 , 0.24478625, 0.14565472, 0.13713559,\n",
            "       0.09343365, 0.03722965, 0.14814407, 0.        , 0.06566359,\n",
            "       0.21928418, 0.20152675, 0.20086295, 0.16197373, 0.25413509,\n",
            "       0.21729264, 0.21397351, 0.35630909, 0.34087517, 0.37163241,\n",
            "       0.33755604, 0.29407532, 0.31421148, 0.37611329, 0.39801963,\n",
            "       0.39088341, 0.53056366, 0.53864028, 0.58964429, 0.60375061,\n",
            "       0.60198043, 0.6006527 , 0.62862197, 0.59486636, 0.62275825,\n",
            "       0.62286886, 0.67350781, 0.73361729, 0.75005806, 0.64314872,\n",
            "       0.67754599, 0.6106101 , 0.63655475, 0.61592077, 0.58068265,\n",
            "       0.60812075, 0.61647396, 0.60574215, 0.59744431, 0.62123144,\n",
            "       0.65077169, 0.64208664, 0.70398845, 0.72097133, 0.72755436])]\n",
            "[0.7275543618711704, 0.7697627182005904]\n",
            "\n"
          ],
          "name": "stdout"
        }
      ]
    },
    {
      "cell_type": "code",
      "metadata": {
        "id": "uTTl46f_InM5"
      },
      "source": [
        "#convert x and y to array\n",
        "x_train, y_train = np.array(x_train), np.array(y_train)"
      ],
      "execution_count": 13,
      "outputs": []
    },
    {
      "cell_type": "code",
      "metadata": {
        "id": "sxPudCC0I-RT",
        "outputId": "0670fa32-081f-4409-e9b1-a3fcb986c466",
        "colab": {
          "base_uri": "https://localhost:8080/",
          "height": 34
        }
      },
      "source": [
        "#reshape\n",
        "x_train = np.reshape(x_train,(x_train.shape[0],x_train.shape[1],1))\n",
        "x_train.shape"
      ],
      "execution_count": 12,
      "outputs": [
        {
          "output_type": "execute_result",
          "data": {
            "text/plain": [
              "(7, 60, 1)"
            ]
          },
          "metadata": {
            "tags": []
          },
          "execution_count": 12
        }
      ]
    },
    {
      "cell_type": "code",
      "metadata": {
        "id": "mt1hspk0Ji9k"
      },
      "source": [
        "#LSTM model\n",
        "model = Sequential()\n",
        "model.add(LSTM(50 ,return_sequences=True, input_shape = (x_train.shape[1],1)))\n",
        "model.add(LSTM(50 ,return_sequences=False))\n",
        "model.add(Dense(12))\n",
        "model.add(Dense(1))"
      ],
      "execution_count": 14,
      "outputs": []
    },
    {
      "cell_type": "code",
      "metadata": {
        "id": "k_5bYTIaKeLI"
      },
      "source": [
        "#Compile \n",
        "model.compile(optimizer = 'adam',loss = 'mean_squared_error')"
      ],
      "execution_count": 15,
      "outputs": []
    },
    {
      "cell_type": "code",
      "metadata": {
        "id": "2nA8fl4oKwEl",
        "outputId": "0c808b54-550d-400c-cbc8-85941cdc8c79",
        "colab": {
          "base_uri": "https://localhost:8080/",
          "height": 51
        }
      },
      "source": [
        "#train\n",
        "model.fit(x_train, y_train, batch_size=1, epochs=1)"
      ],
      "execution_count": 16,
      "outputs": [
        {
          "output_type": "stream",
          "text": [
            "7/7 [==============================] - 0s 19ms/step - loss: 0.1222\n"
          ],
          "name": "stdout"
        },
        {
          "output_type": "execute_result",
          "data": {
            "text/plain": [
              "<tensorflow.python.keras.callbacks.History at 0x7f922f7eaa90>"
            ]
          },
          "metadata": {
            "tags": []
          },
          "execution_count": 16
        }
      ]
    },
    {
      "cell_type": "code",
      "metadata": {
        "id": "leabbT4hMcSz"
      },
      "source": [
        "#test\n",
        "test_data = scaled_data[training_data_len - 60: , :]\n",
        "x_test = []\n",
        "y_test = dataset[training_data_len: , :]\n",
        "for i in range(60, len(test_data)):\n",
        "  x_test.append(test_data[i-60:i,0])"
      ],
      "execution_count": 18,
      "outputs": []
    },
    {
      "cell_type": "code",
      "metadata": {
        "id": "AuIKNdqONXKd"
      },
      "source": [
        "#Conver data to array\n",
        "x_test = np.array(x_test)"
      ],
      "execution_count": 19,
      "outputs": []
    },
    {
      "cell_type": "code",
      "metadata": {
        "id": "EyJfVsaqNfKP"
      },
      "source": [
        "#reshape 2d to 3d\n",
        "x_test = np.reshape(x_test,(x_test.shape[0],x_test.shape[1],1))"
      ],
      "execution_count": 20,
      "outputs": []
    },
    {
      "cell_type": "code",
      "metadata": {
        "id": "75CbcCODN2tH"
      },
      "source": [
        "#Predicted price\n",
        "predictions = model.predict(x_test)\n",
        "predictions = scaler.inverse_transform(predictions)"
      ],
      "execution_count": 21,
      "outputs": []
    },
    {
      "cell_type": "code",
      "metadata": {
        "id": "Oue0-sW9OVBs",
        "outputId": "25f51430-c359-4439-ad29-7806fce00465",
        "colab": {
          "base_uri": "https://localhost:8080/",
          "height": 34
        }
      },
      "source": [
        "#RMSE\n",
        "rmse = np.sqrt(np.mean(predictions - y_test)**2)\n",
        "rmse"
      ],
      "execution_count": 22,
      "outputs": [
        {
          "output_type": "execute_result",
          "data": {
            "text/plain": [
              "194.58270263671875"
            ]
          },
          "metadata": {
            "tags": []
          },
          "execution_count": 22
        }
      ]
    },
    {
      "cell_type": "code",
      "metadata": {
        "id": "bi5c2sa2O4pk",
        "outputId": "591e9a79-3557-4186-fe9a-3925f33a3899",
        "colab": {
          "base_uri": "https://localhost:8080/",
          "height": 660
        }
      },
      "source": [
        "#plot\n",
        "train = data[:training_data_len]\n",
        "valid = data[training_data_len:]\n",
        "valid['Predictions'] = predictions\n",
        "plt.figure(figsize=(16,8))\n",
        "plt.title('Model')\n",
        "plt.xlabel('Date', fontsize = 18)\n",
        "plt.ylabel('Close Price INR ', fontsize = 18)\n",
        "plt.plot(train['Close'])\n",
        "plt.plot(valid[['Close', 'Predictions']])\n",
        "plt.legend(['Train','Val','Predictions'],loc = 'lower right')\n",
        "plt.show()"
      ],
      "execution_count": 23,
      "outputs": [
        {
          "output_type": "stream",
          "text": [
            "/usr/local/lib/python3.6/dist-packages/ipykernel_launcher.py:4: SettingWithCopyWarning: \n",
            "A value is trying to be set on a copy of a slice from a DataFrame.\n",
            "Try using .loc[row_indexer,col_indexer] = value instead\n",
            "\n",
            "See the caveats in the documentation: https://pandas.pydata.org/pandas-docs/stable/user_guide/indexing.html#returning-a-view-versus-a-copy\n",
            "  after removing the cwd from sys.path.\n"
          ],
          "name": "stderr"
        },
        {
          "output_type": "display_data",
          "data": {
            "image/png": "[encoded data removed]",
            "text/plain": [
              "<Figure size 1152x576 with 1 Axes>"
            ]
          },
          "metadata": {
            "tags": []
          }
        }
      ]
    },
    {
      "cell_type": "code",
      "metadata": {
        "id": "DNErQ8msRIkM",
        "outputId": "4460afc8-9079-4872-9fcf-11bfc099b024",
        "colab": {
          "base_uri": "https://localhost:8080/",
          "height": 576
        }
      },
      "source": [
        "#valid and predicted price\n",
        "valid"
      ],
      "execution_count": 24,
      "outputs": [
        {
          "output_type": "execute_result",
          "data": {
            "text/html": [
              "<div>\n",
              "<style scoped>\n",
              "    .dataframe tbody tr th:only-of-type {\n",
              "        vertical-align: middle;\n",
              "    }\n",
              "\n",
              "    .dataframe tbody tr th {\n",
              "        vertical-align: top;\n",
              "    }\n",
              "\n",
              "    .dataframe thead th {\n",
              "        text-align: right;\n",
              "    }\n",
              "</style>\n",
              "<table border=\"1\" class=\"dataframe\">\n",
              "  <thead>\n",
              "    <tr style=\"text-align: right;\">\n",
              "      <th></th>\n",
              "      <th>Close</th>\n",
              "      <th>Predictions</th>\n",
              "    </tr>\n",
              "    <tr>\n",
              "      <th>Date</th>\n",
              "      <th></th>\n",
              "      <th></th>\n",
              "    </tr>\n",
              "  </thead>\n",
              "  <tbody>\n",
              "    <tr>\n",
              "      <th>2020-06-12</th>\n",
              "      <td>1588.800049</td>\n",
              "      <td>1807.838013</td>\n",
              "    </tr>\n",
              "    <tr>\n",
              "      <th>2020-06-15</th>\n",
              "      <td>1614.550049</td>\n",
              "      <td>1816.605347</td>\n",
              "    </tr>\n",
              "    <tr>\n",
              "      <th>2020-06-16</th>\n",
              "      <td>1617.699951</td>\n",
              "      <td>1826.064087</td>\n",
              "    </tr>\n",
              "    <tr>\n",
              "      <th>2020-06-17</th>\n",
              "      <td>1615.349976</td>\n",
              "      <td>1835.838501</td>\n",
              "    </tr>\n",
              "    <tr>\n",
              "      <th>2020-06-18</th>\n",
              "      <td>1655.900024</td>\n",
              "      <td>1845.561890</td>\n",
              "    </tr>\n",
              "    <tr>\n",
              "      <th>2020-06-19</th>\n",
              "      <td>1759.400024</td>\n",
              "      <td>1856.229248</td>\n",
              "    </tr>\n",
              "    <tr>\n",
              "      <th>2020-06-22</th>\n",
              "      <td>1746.150024</td>\n",
              "      <td>1870.177979</td>\n",
              "    </tr>\n",
              "    <tr>\n",
              "      <th>2020-06-23</th>\n",
              "      <td>1720.900024</td>\n",
              "      <td>1885.401855</td>\n",
              "    </tr>\n",
              "    <tr>\n",
              "      <th>2020-06-24</th>\n",
              "      <td>1727.849976</td>\n",
              "      <td>1900.613403</td>\n",
              "    </tr>\n",
              "    <tr>\n",
              "      <th>2020-06-25</th>\n",
              "      <td>1717.900024</td>\n",
              "      <td>1915.767822</td>\n",
              "    </tr>\n",
              "    <tr>\n",
              "      <th>2020-06-26</th>\n",
              "      <td>1741.650024</td>\n",
              "      <td>1930.174927</td>\n",
              "    </tr>\n",
              "    <tr>\n",
              "      <th>2020-06-29</th>\n",
              "      <td>1723.150024</td>\n",
              "      <td>1944.416992</td>\n",
              "    </tr>\n",
              "    <tr>\n",
              "      <th>2020-06-30</th>\n",
              "      <td>1704.099976</td>\n",
              "      <td>1957.530884</td>\n",
              "    </tr>\n",
              "    <tr>\n",
              "      <th>2020-07-01</th>\n",
              "      <td>1737.599976</td>\n",
              "      <td>1969.044312</td>\n",
              "    </tr>\n",
              "    <tr>\n",
              "      <th>2020-07-02</th>\n",
              "      <td>1760.349976</td>\n",
              "      <td>1980.144897</td>\n",
              "    </tr>\n",
              "    <tr>\n",
              "      <th>2020-07-03</th>\n",
              "      <td>1787.900024</td>\n",
              "      <td>1991.163208</td>\n",
              "    </tr>\n",
              "  </tbody>\n",
              "</table>\n",
              "</div>"
            ],
            "text/plain": [
              "                  Close  Predictions\n",
              "Date                                \n",
              "2020-06-12  1588.800049  1807.838013\n",
              "2020-06-15  1614.550049  1816.605347\n",
              "2020-06-16  1617.699951  1826.064087\n",
              "2020-06-17  1615.349976  1835.838501\n",
              "2020-06-18  1655.900024  1845.561890\n",
              "2020-06-19  1759.400024  1856.229248\n",
              "2020-06-22  1746.150024  1870.177979\n",
              "2020-06-23  1720.900024  1885.401855\n",
              "2020-06-24  1727.849976  1900.613403\n",
              "2020-06-25  1717.900024  1915.767822\n",
              "2020-06-26  1741.650024  1930.174927\n",
              "2020-06-29  1723.150024  1944.416992\n",
              "2020-06-30  1704.099976  1957.530884\n",
              "2020-07-01  1737.599976  1969.044312\n",
              "2020-07-02  1760.349976  1980.144897\n",
              "2020-07-03  1787.900024  1991.163208"
            ]
          },
          "metadata": {
            "tags": []
          },
          "execution_count": 24
        }
      ]
    },
    {
      "cell_type": "code",
      "metadata": {
        "id": "BkOQwbfpRciE",
        "outputId": "243f6695-845d-4087-e394-a8aa58b16036",
        "colab": {
          "base_uri": "https://localhost:8080/",
          "height": 34
        }
      },
      "source": [
        "apple_quote = web.DataReader('RELIANCE.NS', data_source='yahoo',start='2020-03-01',end='2020-07-04')\n",
        "new_df = apple_quote.filter(['Close'])\n",
        "last_60_days = new_df[-60:].values \n",
        "last_60_days_scaled = scaler.transform(last_60_days)\n",
        "X_test = []\n",
        "X_test.append(last_60_days_scaled)\n",
        "X_test = np.array(X_test)\n",
        "X_test = np.reshape(X_test,(X_test.shape[0],X_test.shape[1],1))\n",
        "pred_price = model.predict(X_test)\n",
        "pred_price = scaler.inverse_transform(pred_price)\n",
        "print(pred_price)"
      ],
      "execution_count": 25,
      "outputs": [
        {
          "output_type": "stream",
          "text": [
            "[[2002.5393]]\n"
          ],
          "name": "stdout"
        }
      ]
    },
    {
      "cell_type": "code",
      "metadata": {
        "id": "WE624rsxbisf"
      },
      "source": [
        ""
      ],
      "execution_count": null,
      "outputs": []
    }
  ]
}